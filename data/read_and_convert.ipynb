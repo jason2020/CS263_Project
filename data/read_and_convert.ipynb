{
 "cells": [
  {
   "attachments": {},
   "cell_type": "markdown",
   "metadata": {},
   "source": [
    "This file contains one function to assist with dataset creation.\n",
    "create_json(input_file, output_file) is to read in a dataset in .txt form and output the file in .json format so we could manually input the ChatGPT and Gemini outputs for it to be analyzed later."
   ]
  },
  {
   "cell_type": "code",
   "execution_count": 8,
   "metadata": {},
   "outputs": [],
   "source": [
    "import json\n",
    "\n",
    "def create_json(input_file, output_file):\n",
    "    data = []\n",
    "    with open(input_file, 'r', encoding='utf-8') as file:\n",
    "        for line in file:\n",
    "            line = line.strip()\n",
    "            if line:\n",
    "                parts = line.split('\",\"')\n",
    "                english = parts[0].strip('\"')\n",
    "                spanish = parts[1].strip('\"') # change index to 2 for german\n",
    "                data.append({\n",
    "                    \"english\": english,\n",
    "                    \"spanish\": spanish,\n",
    "                    \"gpt_english\": \"\",\n",
    "                    \"google_english\": \"\"\n",
    "                })\n",
    "\n",
    "    with open(output_file, 'w', encoding='utf-8') as outfile:\n",
    "        json.dump(data, outfile, indent=4, ensure_ascii=False)\n",
    "\n",
    "# Usage example:\n",
    "input_file = \"dataset.txt\"\n",
    "output_file = \"output.json\"\n",
    "create_json(input_file, output_file)\n"
   ]
  }
 ],
 "metadata": {
  "kernelspec": {
   "display_name": "base",
   "language": "python",
   "name": "python3"
  },
  "language_info": {
   "codemirror_mode": {
    "name": "ipython",
    "version": 3
   },
   "file_extension": ".py",
   "mimetype": "text/x-python",
   "name": "python",
   "nbconvert_exporter": "python",
   "pygments_lexer": "ipython3",
   "version": "3.9.12"
  },
  "orig_nbformat": 4
 },
 "nbformat": 4,
 "nbformat_minor": 2
}
