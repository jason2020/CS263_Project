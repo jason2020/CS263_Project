{
 "cells": [
  {
   "cell_type": "code",
   "execution_count": 1,
   "metadata": {},
   "outputs": [
    {
     "name": "stderr",
     "output_type": "stream",
     "text": [
      "[nltk_data] Downloading package punkt to data...\n",
      "[nltk_data]   Package punkt is already up-to-date!\n",
      "[nltk_data] Downloading package wordnet to data...\n",
      "[nltk_data]   Package wordnet is already up-to-date!\n"
     ]
    }
   ],
   "source": [
    "import nltk\n",
    "import torch\n",
    "import tqdm as notebook_tqdm\n",
    "from nltk.translate.bleu_score import sentence_bleu, SmoothingFunction\n",
    "from nltk.translate.meteor_score import meteor_score\n",
    "from sklearn.metrics.pairwise import cosine_similarity\n",
    "from nltk.tokenize import word_tokenize\n",
    "from transformers import BertTokenizer, BertModel\n",
    "\n",
    "nltk.download('punkt', download_dir='data')\n",
    "nltk.download('wordnet', download_dir='data')\n",
    "nltk.data.path.append('data')\n",
    "\n",
    "# Load pre-trained BERT model and tokenizer\n",
    "model_name = 'bert-base-uncased'\n",
    "tokenizer = BertTokenizer.from_pretrained(model_name)\n",
    "model = BertModel.from_pretrained(model_name)"
   ]
  },
  {
   "cell_type": "code",
   "execution_count": 2,
   "metadata": {},
   "outputs": [],
   "source": [
    "def preprocess_sentence(sentence):\n",
    "    # Tokenize and make lowercase\n",
    "    return word_tokenize(sentence.lower())\n",
    "\n",
    "def calculate_similarity(reference, candidate):\n",
    "    bleu_score = sentence_bleu([reference], candidate, smoothing_function=SmoothingFunction().method4)\n",
    "    meteor_score_value = meteor_score([reference], candidate)\n",
    "\n",
    "    return bleu_score, meteor_score_value"
   ]
  },
  {
   "cell_type": "code",
   "execution_count": 3,
   "metadata": {},
   "outputs": [],
   "source": [
    "def get_bert_embedding(sentence):\n",
    "    tokens = tokenizer.tokenize(sentence)\n",
    "    tokens = ['[CLS]'] + tokens + ['[SEP]']\n",
    "    input_ids = torch.tensor(tokenizer.convert_tokens_to_ids(tokens)).unsqueeze(0)\n",
    "    with torch.no_grad():\n",
    "        outputs = model(input_ids)\n",
    "    # Extract the output embeddings (the output of the [CLS] token)\n",
    "    embeddings = outputs[0][:, 0, :]\n",
    "    return embeddings.numpy()\n",
    "\n",
    "def get_bert_similarity(embedding1, embedding2):\n",
    "    # Calculate cosine similarity between the two embeddings\n",
    "    similarity = cosine_similarity(embedding1, embedding2)\n",
    "    return similarity[0][0]"
   ]
  },
  {
   "cell_type": "code",
   "execution_count": 4,
   "metadata": {},
   "outputs": [
    {
     "name": "stdout",
     "output_type": "stream",
     "text": [
      "Spanish: ['registro', 'genealógico', 'de', 'jesucristo', ',', 'hijo', 'de', 'david', 'y', 'de', 'abraham']\n",
      "English: ['this', 'is', 'the', 'genealogy', 'of', 'jesus', 'the', 'messiah', 'the', 'son', 'of', 'david', ',', 'the', 'son', 'of', 'abraham']\n",
      "GPT English: ['genealogical', 'record', 'of', 'jesus', 'christ', ',', 'son', 'of', 'david', 'and', 'of', 'abraham', '.']\n"
     ]
    }
   ],
   "source": [
    "import json\n",
    "# This is just a test file for doing the similarity tests\n",
    "test_data = json.load(open('data/test.json'))\n",
    "\n",
    "english = test_data['english']\n",
    "spanish_translation = test_data['spanish']\n",
    "gpt_english = test_data['gpt_english']\n",
    "\n",
    "processed_english = preprocess_sentence(test_data['english'])\n",
    "processed_spanish_translation = preprocess_sentence(test_data['spanish'])\n",
    "processed_gpt_english = preprocess_sentence(test_data['gpt_english'])\n",
    "\n",
    "print('Spanish:', processed_spanish_translation)\n",
    "print('English:', processed_english)\n",
    "print('GPT English:', processed_gpt_english)"
   ]
  },
  {
   "cell_type": "code",
   "execution_count": 5,
   "metadata": {},
   "outputs": [
    {
     "name": "stdout",
     "output_type": "stream",
     "text": [
      "--- Sanity check ---\n",
      "BLEU score: 1.0 METEOR score: 0.999898229187869\n",
      "--- GPT English ---\n",
      "BLEU score: 0.10871733577564763 METEOR score: 0.4990963855421686\n",
      "--- Google English ---\n",
      "BLEU score: 0.09203291586838737 METEOR score: 0.35606744956338454\n"
     ]
    }
   ],
   "source": [
    "# Sanity check\n",
    "bleu_score, meteor_score_value = calculate_similarity(processed_english, processed_english)\n",
    "print(\"--- Sanity check ---\")\n",
    "print(\"BLEU score: {} METEOR score: {}\".format(bleu_score, meteor_score_value))\n",
    "\n",
    "# Check similarity between gpt english translation and actual english version\n",
    "bleu_score, meteor_score_value = calculate_similarity(processed_english, processed_gpt_english)\n",
    "print(\"--- GPT English ---\")\n",
    "print(\"BLEU score: {} METEOR score: {}\".format(bleu_score, meteor_score_value))\n",
    "\n",
    "# Checking with google translation\n",
    "google_english = preprocess_sentence(test_data['google_english'])\n",
    "bleu_score, meteor_score_value = calculate_similarity(processed_english, google_english)\n",
    "print(\"--- Google English ---\")\n",
    "print(\"BLEU score: {} METEOR score: {}\".format(bleu_score, meteor_score_value))"
   ]
  },
  {
   "cell_type": "code",
   "execution_count": 6,
   "metadata": {},
   "outputs": [
    {
     "name": "stdout",
     "output_type": "stream",
     "text": [
      "BERT Similarity between English and GPT English: 0.753445\n",
      "BERT Similarity between English and GPT English: 0.99999994\n"
     ]
    }
   ],
   "source": [
    "english_embedding = get_bert_embedding(english)\n",
    "gpt_english_embedding = get_bert_embedding(gpt_english)\n",
    "\n",
    "similarity = get_bert_similarity(english_embedding, gpt_english_embedding)\n",
    "print(\"BERT Similarity between English and GPT English:\", similarity)\n",
    "\n",
    "similarity = get_bert_similarity(english_embedding, english_embedding)\n",
    "print(\"BERT Similarity between English and GPT English:\", similarity)"
   ]
  },
  {
   "cell_type": "code",
   "execution_count": 8,
   "metadata": {},
   "outputs": [
    {
     "name": "stdout",
     "output_type": "stream",
     "text": [
      "--- Test English ---\n",
      "BLEU score: 0.8091067115702212 METEOR score: 0.9985422740524781\n",
      "BERT Similarity between Test English and Test GPT English: 0.9887735\n"
     ]
    }
   ],
   "source": [
    "# More testing\n",
    "test_english = preprocess_sentence(\"Hello, how are you doing?\")\n",
    "test_gpt_english = preprocess_sentence(\"Hi, how are you doing?\")\n",
    "bleu_score, meteor_score_value = calculate_similarity(test_english, test_gpt_english)\n",
    "print(\"--- Test English ---\")\n",
    "print(\"BLEU score: {} METEOR score: {}\".format(bleu_score, meteor_score_value))\n",
    "test_english_embedding = get_bert_embedding(\"Hello, how are you doing?\")\n",
    "test_gpt_english_embedding = get_bert_embedding(\"Hi, how are you doing?\")\n",
    "similarity = get_bert_similarity(test_english_embedding, test_gpt_english_embedding)\n",
    "print(\"BERT Similarity between Test English and Test GPT English:\", similarity)"
   ]
  }
 ],
 "metadata": {
  "kernelspec": {
   "display_name": "venv",
   "language": "python",
   "name": "python3"
  },
  "language_info": {
   "codemirror_mode": {
    "name": "ipython",
    "version": 3
   },
   "file_extension": ".py",
   "mimetype": "text/x-python",
   "name": "python",
   "nbconvert_exporter": "python",
   "pygments_lexer": "ipython3",
   "version": "3.11.3"
  }
 },
 "nbformat": 4,
 "nbformat_minor": 2
}
