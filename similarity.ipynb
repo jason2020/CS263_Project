{
 "cells": [
  {
   "cell_type": "code",
   "execution_count": 15,
   "metadata": {},
   "outputs": [
    {
     "name": "stderr",
     "output_type": "stream",
     "text": [
      "[nltk_data] Downloading package punkt to data...\n",
      "[nltk_data]   Package punkt is already up-to-date!\n",
      "[nltk_data] Downloading package wordnet to data...\n",
      "[nltk_data]   Package wordnet is already up-to-date!\n"
     ]
    }
   ],
   "source": [
    "import nltk\n",
    "from nltk.translate.bleu_score import sentence_bleu\n",
    "from nltk.translate.meteor_score import meteor_score\n",
    "from nltk.tokenize import word_tokenize\n",
    "\n",
    "nltk.download('punkt', download_dir='data')\n",
    "nltk.download('wordnet', download_dir='data')\n",
    "nltk.data.path.append('data')"
   ]
  },
  {
   "cell_type": "code",
   "execution_count": 16,
   "metadata": {},
   "outputs": [],
   "source": [
    "# Tokenize and make lowercase\n",
    "def preprocess_sentence(sentence):\n",
    "    return word_tokenize(sentence.lower())"
   ]
  },
  {
   "cell_type": "code",
   "execution_count": 18,
   "metadata": {},
   "outputs": [],
   "source": [
    "def calculate_similarity(reference, candidate):\n",
    "    bleu_score = sentence_bleu([reference], candidate)\n",
    "    meteor_score_value = meteor_score([reference], candidate)\n",
    "\n",
    "    return bleu_score, meteor_score_value"
   ]
  },
  {
   "cell_type": "code",
   "execution_count": 17,
   "metadata": {},
   "outputs": [
    {
     "name": "stdout",
     "output_type": "stream",
     "text": [
      "Spanish: ['registro', 'genealógico', 'de', 'jesucristo', ',', 'hijo', 'de', 'david', 'y', 'de', 'abraham']\n",
      "English: ['this', 'is', 'the', 'genealogy', 'of', 'jesus', 'the', 'messiah', 'the', 'son', 'of', 'david', ',', 'the', 'son', 'of', 'abraham']\n",
      "GPT English: ['genealogical', 'record', 'of', 'jesus', 'christ', ',', 'son', 'of', 'david', 'and', 'of', 'abraham', '.']\n"
     ]
    }
   ],
   "source": [
    "import json\n",
    "# This is just a test file for doing the similarity tests\n",
    "test_data = json.load(open('data/test.json'))\n",
    "\n",
    "english = preprocess_sentence(test_data['english'])\n",
    "spanish_translation = preprocess_sentence(test_data['spanish'])\n",
    "gpt_english = preprocess_sentence(test_data['gpt_english'])\n",
    "\n",
    "print('Spanish:', spanish_translation)\n",
    "print('English:', english)\n",
    "print('GPT English:', gpt_english)"
   ]
  },
  {
   "cell_type": "code",
   "execution_count": 24,
   "metadata": {},
   "outputs": [
    {
     "name": "stdout",
     "output_type": "stream",
     "text": [
      "--- Sanity check ---\n",
      "BLEU score: 1.0 METEOR score: 0.999898229187869\n",
      "--- GPT English ---\n",
      "BLEU score: 3.3179146511781414e-78 METEOR score: 0.4990963855421686\n",
      "--- Google English ---\n",
      "BLEU score: 2.7014332045139275e-78 METEOR score: 0.35606744956338454\n"
     ]
    }
   ],
   "source": [
    "# Sanity check\n",
    "bleu_score, meteor_score_value = calculate_similarity(english, english)\n",
    "print(\"--- Sanity check ---\")\n",
    "print(\"BLEU score: {} METEOR score: {}\".format(bleu_score, meteor_score_value))\n",
    "\n",
    "# Check similarity between gpt english translation and actual english version\n",
    "bleu_score, meteor_score_value = calculate_similarity(english, gpt_english)\n",
    "print(\"--- GPT English ---\")\n",
    "print(\"BLEU score: {} METEOR score: {}\".format(bleu_score, meteor_score_value))\n",
    "\n",
    "# Checking with google translation\n",
    "google_english = preprocess_sentence(test_data['google_english'])\n",
    "bleu_score, meteor_score_value = calculate_similarity(english, google_english)\n",
    "print(\"--- Google English ---\")\n",
    "print(\"BLEU score: {} METEOR score: {}\".format(bleu_score, meteor_score_value))"
   ]
  }
 ],
 "metadata": {
  "kernelspec": {
   "display_name": "venv",
   "language": "python",
   "name": "python3"
  },
  "language_info": {
   "codemirror_mode": {
    "name": "ipython",
    "version": 3
   },
   "file_extension": ".py",
   "mimetype": "text/x-python",
   "name": "python",
   "nbconvert_exporter": "python",
   "pygments_lexer": "ipython3",
   "version": "3.11.3"
  }
 },
 "nbformat": 4,
 "nbformat_minor": 2
}
