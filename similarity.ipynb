{
 "cells": [
  {
   "cell_type": "code",
   "execution_count": 7,
   "metadata": {},
   "outputs": [
    {
     "name": "stderr",
     "output_type": "stream",
     "text": [
      "[nltk_data] Downloading package punkt to data...\n",
      "[nltk_data]   Package punkt is already up-to-date!\n",
      "[nltk_data] Downloading package wordnet to data...\n"
     ]
    }
   ],
   "source": [
    "import nltk\n",
    "from nltk.translate.bleu_score import sentence_bleu\n",
    "from nltk.translate.meteor_score import meteor_score\n",
    "from nltk.tokenize import word_tokenize\n",
    "\n",
    "nltk.download('punkt', download_dir='data')\n",
    "nltk.download('wordnet', download_dir='data')\n",
    "nltk.data.path.append('data')"
   ]
  },
  {
   "cell_type": "code",
   "execution_count": 8,
   "metadata": {},
   "outputs": [],
   "source": [
    "# Tokenize and make lowercase\n",
    "def preprocess_sentence(sentence):\n",
    "    return word_tokenize(sentence.lower())"
   ]
  },
  {
   "cell_type": "code",
   "execution_count": 9,
   "metadata": {},
   "outputs": [
    {
     "name": "stdout",
     "output_type": "stream",
     "text": [
      "Spanish: ['registro', 'genealógico', 'de', 'jesucristo', ',', 'hijo', 'de', 'david', 'y', 'de', 'abraham']\n",
      "English: ['this', 'is', 'the', 'genealogy', 'of', 'jesus', 'the', 'messiah', 'the', 'son', 'of', 'david', ',', 'the', 'son', 'of', 'abraham']\n",
      "GPT English: ['genealogical', 'record', 'of', 'jesus', 'christ', ',', 'son', 'of', 'david', 'and', 'of', 'abraham', '.']\n"
     ]
    }
   ],
   "source": [
    "import json\n",
    "# This is just a test file for doing the similarity tests\n",
    "test_data = json.load(open('data/test.json'))\n",
    "\n",
    "english = preprocess_sentence(test_data['english'])\n",
    "spanish_translation = preprocess_sentence(test_data['spanish'])\n",
    "gpt_english = preprocess_sentence(test_data['gpt_english'])\n",
    "\n",
    "print('Spanish:', spanish_translation)\n",
    "print('English:', english)\n",
    "print('GPT English:', gpt_english)"
   ]
  },
  {
   "cell_type": "code",
   "execution_count": 10,
   "metadata": {},
   "outputs": [],
   "source": [
    "def calculate_similarity(reference, candidate):\n",
    "    # Calculate BLEU score\n",
    "    bleu_score = sentence_bleu([reference], candidate)\n",
    "\n",
    "    # Calculate METEOR score\n",
    "    meteor_score_value = meteor_score([reference], candidate)\n",
    "\n",
    "    return bleu_score, meteor_score_value"
   ]
  },
  {
   "cell_type": "code",
   "execution_count": 11,
   "metadata": {},
   "outputs": [
    {
     "name": "stdout",
     "output_type": "stream",
     "text": [
      "BLEU: 3.3179146511781414e-78\n",
      "METEOR: 0.4990963855421686\n"
     ]
    }
   ],
   "source": [
    "# Check similarity between gpt english translation and actual english version\n",
    "bleu_score, meteor_score_value = calculate_similarity(english, gpt_english)\n",
    "\n",
    "print('BLEU:', bleu_score)\n",
    "print('METEOR:', meteor_score_value)"
   ]
  }
 ],
 "metadata": {
  "kernelspec": {
   "display_name": "venv",
   "language": "python",
   "name": "python3"
  },
  "language_info": {
   "codemirror_mode": {
    "name": "ipython",
    "version": 3
   },
   "file_extension": ".py",
   "mimetype": "text/x-python",
   "name": "python",
   "nbconvert_exporter": "python",
   "pygments_lexer": "ipython3",
   "version": "3.11.3"
  }
 },
 "nbformat": 4,
 "nbformat_minor": 2
}
